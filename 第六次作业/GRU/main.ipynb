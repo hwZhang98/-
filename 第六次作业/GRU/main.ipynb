{
 "cells": [
  {
   "cell_type": "code",
   "execution_count": null,
   "metadata": {},
   "outputs": [],
   "source": [
    "from google.colab import drive\n",
    "drive.mount('/content/drive')"
   ]
  },
  {
   "cell_type": "code",
   "execution_count": null,
   "metadata": {},
   "outputs": [],
   "source": [
    "import os\n",
    "# 切换工作路径\n",
    "path = \"/content/drive/My Drive/Colab Notebooks/a4\"\n",
    "os.chdir(path)\n",
    "os.listdir(path)"
   ]
  },
  {
   "cell_type": "code",
   "execution_count": null,
   "metadata": {},
   "outputs": [],
   "source": [
    "# %load main.py\n",
    "import read_data as rd\n",
    "import torch\n",
    "from torch.utils.data import DataLoader\n",
    "from torch.autograd import Variable\n",
    "import Model as R\n",
    "import torch.nn as nn\n",
    "import numpy as np\n",
    "from torch.utils.data import sampler\n",
    "\n",
    "convert = rd.TextConvert('./dataset/poetry.txt', max_vocab=10000)  # 字典\n",
    "n_step = 512\n",
    "num_seq = int(convert.vocab_size() / n_step)  # 去掉最后不足一个序列长度的部分\n",
    "text = convert.vocab[:num_seq * n_step]\n",
    "arr = convert.text_to_arr(text)\n",
    "\n",
    "arr = arr.reshape((num_seq, -1))   # 分成句子\n",
    "arr = torch.from_numpy(arr)\n",
    "\n",
    "train_set = rd.TextDataset(arr)  # 获取数据(num_seq=19,n_step=512)  句子长度为19，总共512个句子\n",
    "\n",
    "batch_size = 16\n",
    "train_data = DataLoader(train_set, batch_size)\n",
    "\n",
    "model = R.CharModel(convert.vocab_size(), 512, 512, 2, 0.5)\n",
    "\n",
    "begin = '等'\n",
    "execution=R.Execution(model)\n",
    "execution.train(train_data)\n",
    "execution.eval(convert,begin)"
   ]
  }
 ],
 "metadata": {
  "kernelspec": {
   "display_name": "Python 3",
   "language": "python",
   "name": "python3"
  },
  "language_info": {
   "codemirror_mode": {
    "name": "ipython",
    "version": 3
   },
   "file_extension": ".py",
   "mimetype": "text/x-python",
   "name": "python",
   "nbconvert_exporter": "python",
   "pygments_lexer": "ipython3",
   "version": "3.7.3"
  }
 },
 "nbformat": 4,
 "nbformat_minor": 2
}
